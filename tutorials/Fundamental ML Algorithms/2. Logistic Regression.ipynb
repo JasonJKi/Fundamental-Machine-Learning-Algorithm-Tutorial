{
 "cells": [
  {
   "cell_type": "code",
   "execution_count": 1,
   "id": "84c89583",
   "metadata": {},
   "outputs": [],
   "source": [
    "import numpy as np\n",
    "import matplotlib.pyplot as plt"
   ]
  },
  {
   "cell_type": "code",
   "execution_count": 2,
   "id": "da8d6cf7",
   "metadata": {},
   "outputs": [],
   "source": [
    "class LogisticRegression():\n",
    "    \n",
    "    def __init__(self, max_iter=100, learning_rate=.01, min_error=.1):\n",
    "        self.max_iter = max_iter\n",
    "        self.min_error = min_error\n",
    "        self.learning_rate = learning_rate\n",
    "        \n",
    "    def init_weights(self, X):\n",
    "        self.w = np.random.rand(X.shape[1],1)\n",
    "        self.b = np.random.rand(1)\n",
    "                    \n",
    "    def model(self, X):\n",
    "        y_pred = np.dot(X, self.w) + self.b        \n",
    "        return self.sigmoid(y_pred)\n",
    "    \n",
    "    def sigmoid(self, Z):\n",
    "        return 1/(1 + np.exp(-Z))\n",
    "    \n",
    "    def gradient(self, X, y):\n",
    "        y_pred = self.model(X)\n",
    "        \n",
    "        error = y - y_pred\n",
    "        dXdw = np.dot(error.T, X)*(-2/X.shape[0])\n",
    "        dXdb = np.sum(y - y_pred)*(-2/X.shape[0])\n",
    "        \n",
    "        return dXdw, dXdb\n",
    "    \n",
    "    def mse(self, X, y):\n",
    "        y_pred =  self.model(X)\n",
    "        loss = np.sum((y_pred - y)**2)/y.shape[0]\n",
    "        return loss\n",
    "    \n",
    "    def predict(self, X):\n",
    "        return self.model(X)\n",
    "    \n",
    "    def fit(self, X, y):\n",
    "        self.init_weights(X)\n",
    "        \n",
    "        i = 0 \n",
    "        ii = 0\n",
    "        while i < self.max_iter:\n",
    "            self.previous_error = self.mse(X,y)\n",
    "            \n",
    "            dXdw, dXdb = self.gradient(X, y)\n",
    "\n",
    "            self.w -= self.learning_rate*dXdw.T\n",
    "            self.b += self.learning_rate*dXdb\n",
    "            current_error = self.mse(X,y)\n",
    "            if (current_error < self.min_error):\n",
    "                print(\"training finished\", \"mse = \", current_error, \"num iter = \", i)\n",
    "                break\n",
    "            \n",
    "            if self.previous_error < current_error:\n",
    "                ii += 1\n",
    "                if (ii > 5):\n",
    "                    print(\"Error has not improved for\",ii, \"iterations\", \"mse = \", current_error, \"num iter = \", i)\n",
    "                    break\n",
    "            else:\n",
    "                ii = 0\n",
    "            i += 1"
   ]
  },
  {
   "cell_type": "code",
   "execution_count": 3,
   "id": "a261027a",
   "metadata": {},
   "outputs": [
    {
     "name": "stdout",
     "output_type": "stream",
     "text": [
      "[[0.62629469]\n",
      " [0.62985073]\n",
      " [0.63339274]\n",
      " [0.62629469]\n",
      " [0.62629469]\n",
      " [0.63339274]\n",
      " [0.64393137]\n",
      " [0.62629469]\n",
      " [0.62985073]\n",
      " [0.63339274]\n",
      " [0.64043338]\n",
      " [0.64393137]\n",
      " [0.65776741]]\n"
     ]
    },
    {
     "data": {
      "text/plain": [
       "0.2792830802108455"
      ]
     },
     "execution_count": 3,
     "metadata": {},
     "output_type": "execute_result"
    }
   ],
   "source": [
    "X = np.array([[1,2,3,1,1,3,6,1,2,3,5,6,10]]).T\n",
    "y = np.array([[1,1,1,0,1,0,1,0,0,0,0,1,0,]]).T\n",
    "\n",
    "model = LogisticRegression()\n",
    "model.init_weights(X)\n",
    "print(model.predict(X))\n",
    "model.mse(X,y)"
   ]
  }
 ],
 "metadata": {
  "interpreter": {
   "hash": "75273f6ed8af91899ebc591bf6ae2fd0716c5db2515d7097a000123632f4e53a"
  },
  "kernelspec": {
   "display_name": "Python 3.9.7 64-bit",
   "language": "python",
   "name": "python3"
  },
  "language_info": {
   "codemirror_mode": {
    "name": "ipython",
    "version": 3
   },
   "file_extension": ".py",
   "mimetype": "text/x-python",
   "name": "python",
   "nbconvert_exporter": "python",
   "pygments_lexer": "ipython3",
   "version": "3.9.7"
  }
 },
 "nbformat": 4,
 "nbformat_minor": 5
}
